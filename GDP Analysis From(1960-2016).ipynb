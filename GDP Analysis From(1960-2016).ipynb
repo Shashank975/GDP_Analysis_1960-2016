{
 "cells": [
  {
   "cell_type": "markdown",
   "id": "b03e40aa",
   "metadata": {},
   "source": [
    "Author-Shashank Chhoker"
   ]
  },
  {
   "cell_type": "code",
   "execution_count": null,
   "id": "288d6e01",
   "metadata": {},
   "outputs": [],
   "source": [
    "#Topic-GDP Analysis From(1960-2016)   "
   ]
  },
  {
   "cell_type": "code",
   "execution_count": null,
   "id": "82310056",
   "metadata": {},
   "outputs": [],
   "source": [
    "#Importing the important Libries\n",
    "import os\n",
    "import numpy as np\n",
    "import pandas as pd\n",
    "import plotly.express as px\n",
    "import plotly.offline as pyo\n",
    "import matplotlib.pyplot as plt\n"
   ]
  },
  {
   "cell_type": "code",
   "execution_count": null,
   "id": "64a873b1",
   "metadata": {},
   "outputs": [],
   "source": [
    "#Reading the csv File \n",
    "df=pd.read_csv('gdp.csv')\n",
    "df.head(10)"
   ]
  },
  {
   "cell_type": "code",
   "execution_count": null,
   "id": "13d9a682",
   "metadata": {},
   "outputs": [],
   "source": [
    "#Finging the Column and Rows in the DataSet\n",
    "df.shape"
   ]
  },
  {
   "cell_type": "markdown",
   "id": "b51402e0",
   "metadata": {},
   "source": [
    "Gross domestic product (GDP) is the total monetary or market value of all the finished goods and services produced within a country’s borders in a specific time period. As a broad measure of overall domestic production, it functions as a comprehensive scorecard of a given country’s economic health."
   ]
  },
  {
   "cell_type": "code",
   "execution_count": null,
   "id": "16901b1e",
   "metadata": {},
   "outputs": [],
   "source": [
    "df[df[\"Country Name\"]=='Arab World'].describe()"
   ]
  },
  {
   "cell_type": "code",
   "execution_count": null,
   "id": "237c1c9a",
   "metadata": {},
   "outputs": [],
   "source": [
    "df['Country Name'].describe()"
   ]
  },
  {
   "cell_type": "code",
   "execution_count": null,
   "id": "f850b087",
   "metadata": {},
   "outputs": [],
   "source": [
    "df['Country Code'].describe()"
   ]
  },
  {
   "cell_type": "code",
   "execution_count": null,
   "id": "0ecffdab",
   "metadata": {},
   "outputs": [],
   "source": [
    "df['Value'].describe()"
   ]
  },
  {
   "cell_type": "code",
   "execution_count": null,
   "id": "13d2e0fe",
   "metadata": {},
   "outputs": [],
   "source": [
    "df.isnull().sum() # So, we do not have any null value in the dataset."
   ]
  },
  {
   "cell_type": "code",
   "execution_count": null,
   "id": "23fb35fb",
   "metadata": {},
   "outputs": [],
   "source": [
    "df_ar=df[df[\"Country Name\"]==\"India\"]\n",
    "df_ar"
   ]
  },
  {
   "cell_type": "code",
   "execution_count": null,
   "id": "55c7eb20",
   "metadata": {},
   "outputs": [],
   "source": [
    "\n",
    "df_ar['Value'] = df_ar['Value'].round(2)\n",
    "\n",
    "# Create the line plot using Matplotlib\n",
    "plt.figure(figsize=(15, 6))\n",
    "plt.plot(df_ar['Year'], df_ar['Value'], color='blue', linewidth=2)\n",
    "\n",
    "# Customize the plot\n",
    "plt.title('Yearly Value Trend', fontsize=24)\n",
    "plt.xlabel('Year', fontsize=18)\n",
    "plt.ylabel('Value', fontsize=18)\n",
    "plt.xticks(range(df_ar['Year'].min(), df_ar['Year'].max() + 1, 10))\n",
    "plt.grid(axis='both', linestyle='--', alpha=0.7)\n",
    "\n",
    "# Set background color\n",
    "plt.gca().set_facecolor((0.95, 0.95, 0.95))\n",
    "\n",
    "# Show the plot\n",
    "plt.show()"
   ]
  },
  {
   "cell_type": "code",
   "execution_count": null,
   "id": "7d3e0993",
   "metadata": {},
   "outputs": [],
   "source": []
  },
  {
   "cell_type": "markdown",
   "id": "81a6f2ad",
   "metadata": {},
   "source": [
    "# GDP growth of a particular country:-"
   ]
  },
  {
   "cell_type": "markdown",
   "id": "a0368a73",
   "metadata": {},
   "source": [
    "GDP growth rate = (GDP in current period - GDP in previous period) / GDP in previous period * 100\n",
    "\n",
    "For example, if a country's GDP in 2020 was 100 and in 2021 it was 105, the GDP growth rate would be calculated as follows:\n",
    "\n",
    "GDP growth rate = (105 - 100) / 100 * 100 = 5%"
   ]
  },
  {
   "cell_type": "code",
   "execution_count": null,
   "id": "68d611b4",
   "metadata": {},
   "outputs": [],
   "source": [
    "data=df_ar.values\n",
    "gdp_change=[0]\n",
    "for i in range (1,len(data)):\n",
    "    current=(data[i][3])\n",
    "    previous=(data[i-1][3])\n",
    "    gdp_change.append(round(((current-previous)/previous)*100,2))\n",
    "df_ar.assign(GDP = gdp_change)"
   ]
  },
  {
   "cell_type": "code",
   "execution_count": null,
   "id": "e982a2d3",
   "metadata": {},
   "outputs": [],
   "source": [
    "data=df_ar.values\n",
    "gdp_change=[0]\n",
    "for i in range (1,len(data)):\n",
    "    current=(data[i][3])\n",
    "    previous=(data[i-1][3])\n",
    "    gdp_change.append(round(((current-previous)/previous)*100,2))\n",
    "df_ar.assign(GDP = gdp_change).plot(kind='line',figsize=(10,6))"
   ]
  },
  {
   "cell_type": "markdown",
   "id": "13feeb7d",
   "metadata": {},
   "source": [
    "# GDP Growth of the whole countries"
   ]
  },
  {
   "cell_type": "code",
   "execution_count": null,
   "id": "08a12bfc",
   "metadata": {},
   "outputs": [],
   "source": [
    " final_dataset=[]\n",
    "\n",
    "for country_name in df[\"Country Name\"].unique():\n",
    "\n",
    "    df_ar=df[df['Country Name']==country_name]\n",
    "    \n",
    "    data=df_ar.values\n",
    "    gdp_change=[0]\n",
    "    \n",
    "    for i in range (1,len(data)):\n",
    "    \n",
    "        current=(data[i][3])\n",
    "        previous=(data[i-1][3])\n",
    "        \n",
    "        gdp_change.append(round(((current-previous)/previous)*100,2))\n",
    "        \n",
    "    df_ar=df_ar.assign(GDP = gdp_change)\n",
    "    final_dataset.append(df_ar)"
   ]
  },
  {
   "cell_type": "code",
   "execution_count": null,
   "id": "cbfed358",
   "metadata": {},
   "outputs": [],
   "source": [
    "df=pd.concat(final_dataset,axis=0)"
   ]
  },
  {
   "cell_type": "code",
   "execution_count": null,
   "id": "74289e38",
   "metadata": {},
   "outputs": [],
   "source": [
    "df.groupby('Country Name').max()['Value'].sort_values(ascending = False).head(50)\n"
   ]
  },
  {
   "cell_type": "markdown",
   "id": "01143a19",
   "metadata": {},
   "source": [
    "# VISUALIZATION"
   ]
  },
  {
   "cell_type": "code",
   "execution_count": null,
   "id": "9c05a7ed",
   "metadata": {},
   "outputs": [],
   "source": [
    "df_wr=df[df['Country Name']=='World']#Using plotly we are ploting Graphs\n",
    "df_wr"
   ]
  },
  {
   "cell_type": "code",
   "execution_count": null,
   "id": "4c550f93",
   "metadata": {},
   "outputs": [],
   "source": [
    "fig=px.line(df_wr,x='Year',y='Value',title='World GDP Growth')\n",
    "fig"
   ]
  },
  {
   "cell_type": "code",
   "execution_count": null,
   "id": "3e3194be",
   "metadata": {},
   "outputs": [],
   "source": [
    "pyo.plot(fig, filename = 'World GDP.html',auto_open=False)"
   ]
  },
  {
   "cell_type": "code",
   "execution_count": null,
   "id": "99dc2954",
   "metadata": {},
   "outputs": [],
   "source": [
    "df_wr=df[df['Country Name']=='India']\n",
    "fig=px.line(df_wr,x='Year',y='Value',title='World GDP Growth')\n",
    "fig"
   ]
  },
  {
   "cell_type": "code",
   "execution_count": null,
   "id": "1c4c97e7",
   "metadata": {},
   "outputs": [],
   "source": [
    "pyo.plot(fig, filename = 'India GDP.html',auto_open=False)"
   ]
  },
  {
   "cell_type": "code",
   "execution_count": null,
   "id": "d1ba241c",
   "metadata": {},
   "outputs": [],
   "source": [
    "df_wr=df[df['Country Name']=='China']\n",
    "fig=px.line(df_wr,x='Year',y='Value',title='World GDP Growth')\n",
    "fig"
   ]
  },
  {
   "cell_type": "code",
   "execution_count": null,
   "id": "ba5d036b",
   "metadata": {},
   "outputs": [],
   "source": [
    "pyo.plot(fig, filename = 'China GDP.html',auto_open=False)"
   ]
  },
  {
   "cell_type": "markdown",
   "id": "6f1495c4",
   "metadata": {},
   "source": [
    "# Plotting Graphs Into Bulks"
   ]
  },
  {
   "cell_type": "code",
   "execution_count": null,
   "id": "61069dab",
   "metadata": {},
   "outputs": [],
   "source": [
    "os.mkdir('GDP Individuals with Respect to World')"
   ]
  },
  {
   "cell_type": "code",
   "execution_count": null,
   "id": "bb5b8691",
   "metadata": {},
   "outputs": [],
   "source": [
    "for country_name in df['Country Name'].unique():\n",
    "    \n",
    "    df_wr=df[df['Country Name']==country_name]\n",
    "    fig=px.line(df_wr,x='Year',y='Value',title= country_name +'GDP Growth',range_y = [0, 8000000000000])\n",
    "    pyo.plot(fig, filename ='GDP Individuals with Respect to World/'+country_name +'GDP.html',auto_open=False)\n",
    "    \n",
    "    "
   ]
  },
  {
   "cell_type": "markdown",
   "id": "f1d47b1d",
   "metadata": {},
   "source": [
    "# Comprassion between the Graphs"
   ]
  },
  {
   "cell_type": "code",
   "execution_count": null,
   "id": "2e3bed5a",
   "metadata": {},
   "outputs": [],
   "source": [
    "fig1=px.line(df,x='Year',y='Value',title='GDP Analysis of all the country ',color='Country Name')\n",
    "pyo.plot(fig1, filename ='GDP Analysis.html',auto_open=False)"
   ]
  },
  {
   "cell_type": "code",
   "execution_count": null,
   "id": "6e9daad8",
   "metadata": {},
   "outputs": [],
   "source": [
    "c1 = df[df['Country Name'] == 'China']\n",
    "c2 = df[df['Country Name'] == 'India']"
   ]
  },
  {
   "cell_type": "code",
   "execution_count": null,
   "id": "fdba7af4",
   "metadata": {},
   "outputs": [],
   "source": [
    "df_pk = pd.concat([c1,c2],axis = 0)"
   ]
  },
  {
   "cell_type": "code",
   "execution_count": null,
   "id": "8b0bb408",
   "metadata": {},
   "outputs": [],
   "source": [
    "fig3= px.line(df_pk, x = 'Year', y = 'Value', title = 'GDP Comparison | India & China', color = 'Country Name')\n",
    "pyo.plot(fig3, filename = 'Comprasion.html',auto_open=False)"
   ]
  },
  {
   "cell_type": "markdown",
   "id": "87df2532",
   "metadata": {},
   "source": [
    "# Growth Comprasion of Specific Countries"
   ]
  },
  {
   "cell_type": "code",
   "execution_count": null,
   "id": "70703752",
   "metadata": {},
   "outputs": [],
   "source": [
    "def compo_gdp(lst, isOpen):\n",
    "    dfs = []\n",
    "    for i in lst:\n",
    "        dfs.append(df[df['Country Code'] == i])\n",
    "        df_pr = pd.concat(dfs, axis=0)\n",
    "\n",
    "    # Use plotly express to create the bar chart with red and blue colors\n",
    "    fig4 = px.bar(df_pr, x='Year', y='Value', title='GDP Comparison', color='Country Name',\n",
    "                   color_discrete_map={'IND': 'red', 'USA': 'blue'})  # Red for IND and blue for USA\n",
    "\n",
    "    # Update the layout to make it more attractive\n",
    "    fig4.update_layout(\n",
    "        title_font=dict(size=30, family='Arial, sans-serif', color='black'),\n",
    "        xaxis=dict(\n",
    "            tickmode='linear',\n",
    "            tick0=df['Year'].min(),\n",
    "            dtick=5,\n",
    "            range=[df['Year'].min(), df['Year'].max()],\n",
    "            title_font=dict(size=24, family='Arial, sans-serif', color='black'),\n",
    "        ),\n",
    "        yaxis=dict(\n",
    "            title='GDP Value',\n",
    "            tickprefix='$',\n",
    "            title_font=dict(size=24, family='Arial, sans-serif', color='black'),\n",
    "        ),\n",
    "        margin=dict(l=50, r=50, t=100, b=50),\n",
    "        paper_bgcolor='rgb(240, 240, 240)',  # Light gray background\n",
    "        plot_bgcolor='rgb(255, 255, 255)',  # White plot area\n",
    "        font=dict(family='Arial, sans-serif', size=18, color='black'),\n",
    "        showlegend=isOpen,  # Show/hide the legend based on isOpen parameter\n",
    "    )\n",
    "\n",
    "    # Save the plot to an HTML file\n",
    "    pio.write_html(fig4, file='Compr.html', auto_open=False)\n",
    "    \n",
    "\n",
    "# Get user input for countries and whether to show the legend\n",
    "countries = input(\"Enter country codes (comma-separated): \").split(',')\n",
    "show_legend = input(\"Show legend? (y/n): \").lower() == 'y'\n",
    "\n",
    "# Example usage of the function with user input\n",
    "compo_gdp(countries, isOpen=show_legend)"
   ]
  },
  {
   "cell_type": "raw",
   "id": "d6dd70f4",
   "metadata": {},
   "source": [
    "def compo_gdp(lst,isOpen):\n",
    "        dfs=[]\n",
    "        for i in lst:\n",
    "            dfs.append(df[df['Country Code']==i])\n",
    "            df_pr=pd.concat(dfs,axis=0)\n",
    "        fig4= px.line(df_pr, x = 'Year', y = 'Value', title = 'GDP Comparison', color = 'Country Name')\n",
    "        pyo.plot(fig4, filename = 'Compr.html',auto_open=False)"
   ]
  },
  {
   "cell_type": "markdown",
   "id": "104e5f03",
   "metadata": {},
   "source": [
    "import plotly.io as pio\n",
    "\n",
    "def compo_gdp(lst, isOpen):\n",
    "    dfs = []\n",
    "    for i in lst:\n",
    "        dfs.append(df[df['Country Code'] == i])\n",
    "        df_pr = pd.concat(dfs, axis=0)\n",
    "\n",
    "    # Use plotly express to create the line plot\n",
    "    fig4 = px.line(df_pr, x='Year', y='Value', title='GDP Comparison', color='Country Name')\n",
    "\n",
    "    # Update the layout to make it more attractive\n",
    "    fig4.update_layout(\n",
    "        title_font=dict(size=30, family='Arial, sans-serif', color='black'),\n",
    "        xaxis=dict(\n",
    "            tickmode='linear',\n",
    "            tick0=df['Year'].min(),\n",
    "            dtick=5,\n",
    "            range=[df['Year'].min(), df['Year'].max()],\n",
    "            title_font=dict(size=24, family='Arial, sans-serif', color='black'),\n",
    "        ),\n",
    "        yaxis=dict(\n",
    "            title='GDP Value',\n",
    "            tickprefix='$',\n",
    "            title_font=dict(size=24, family='Arial, sans-serif', color='black'),\n",
    "        ),\n",
    "        margin=dict(l=50, r=50, t=100, b=50),\n",
    "        paper_bgcolor='rgb(240, 240, 240)',  # Light gray background\n",
    "        plot_bgcolor='rgb(255, 255, 255)',  # White plot area\n",
    "        font=dict(family='Arial, sans-serif', size=18, color='black'),\n",
    "        showlegend=isOpen,  # Show/hide the legend based on isOpen parameter\n",
    "    )\n",
    "\n",
    "    # Save the plot to an HTML file\n",
    "    pio.write_html(fig4, file='Compr.html', auto_open=False)\n",
    "\n",
    "# Get user input for countries and whether to show the legend\n",
    "countries = input(\"Enter country codes (comma-separated): \").split(',')\n",
    "show_legend = input(\"Show legend? (y/n): \").lower() == 'y'\n",
    "\n",
    "# Example usage of the function with user input\n",
    "compo_gdp(countries, isOpen=show_legend)"
   ]
  },
  {
   "cell_type": "markdown",
   "id": "9889a03f",
   "metadata": {},
   "source": [
    "def compo_gdp(lst,isOpen):\n",
    "        dfs=[]\n",
    "        for i in lst:\n",
    "            dfs.append(df[df['Country Code']==i])\n",
    "            df_pr=pd.concat(dfs,axis=0)\n",
    "        fig4= px.line(df_pr, x = 'Year', y = 'Value', title = 'GDP Comparison', color = 'Country Name')\n",
    "        pyo.plot(fig4, filename = 'Compr.html',auto_open=False)"
   ]
  },
  {
   "cell_type": "markdown",
   "id": "46fac3c3",
   "metadata": {},
   "source": [
    "# Growth of the Countries between 1960-2016 "
   ]
  },
  {
   "cell_type": "code",
   "execution_count": null,
   "id": "9bec13ae",
   "metadata": {},
   "outputs": [],
   "source": [
    "dfs = []\n",
    "\n",
    "for country_name in df['Country Name'].unique():\n",
    "    df_pr = df[df['Country Name'] == country_name]\n",
    "    \n",
    "    if (len(df_pr) == 57):\n",
    "        dfs.append(df_pr)\n",
    "        \n",
    "df_pr = pd.concat(dfs, axis = 0)"
   ]
  },
  {
   "cell_type": "code",
   "execution_count": null,
   "id": "4a11410b",
   "metadata": {},
   "outputs": [],
   "source": [
    "df_pr"
   ]
  },
  {
   "cell_type": "code",
   "execution_count": null,
   "id": "1fec28d2",
   "metadata": {},
   "outputs": [],
   "source": [
    "fig = px.line(df_pr, x = 'Year', y = 'GDP', title = 'GDP Growth', color = 'Country Name')\n",
    "\n",
    "pyo.plot(fig, filename = 'GDP Growth.html', auto_open = False)"
   ]
  },
  {
   "cell_type": "code",
   "execution_count": null,
   "id": "4eb4886e",
   "metadata": {},
   "outputs": [],
   "source": []
  }
 ],
 "metadata": {
  "kernelspec": {
   "display_name": "Python 3 (ipykernel)",
   "language": "python",
   "name": "python3"
  },
  "language_info": {
   "codemirror_mode": {
    "name": "ipython",
    "version": 3
   },
   "file_extension": ".py",
   "mimetype": "text/x-python",
   "name": "python",
   "nbconvert_exporter": "python",
   "pygments_lexer": "ipython3",
   "version": "3.11.1"
  }
 },
 "nbformat": 4,
 "nbformat_minor": 5
}
